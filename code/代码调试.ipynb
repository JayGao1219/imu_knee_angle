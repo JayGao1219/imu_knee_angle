{
 "cells": [
  {
   "cell_type": "code",
   "execution_count": 12,
   "metadata": {},
   "outputs": [],
   "source": [
    "import serial\n",
    "import struct\n",
    "import time\n",
    "\n",
    "##两个imu分开写\n",
    "state1 = 0\n",
    "payload1 = list()\n",
    "\n",
    "state2 = 0\n",
    "payload2 = list()\n",
    "\n",
    "# +SPPDATA=1,028,\n",
    "header1 = bytes([0x2B, 0x53, 0x50, 0x50, 0x44, 0x41, 0x54, 0x41, 0x3D, 0x31, 0x2C, 0x30, 0x32, 0x38, 0x2C])\n",
    "# +SPPDATA=2,028,\n",
    "header2= bytes([0x2B, 0x53, 0x50, 0x50, 0x44, 0x41, 0x54, 0x41, 0x3D, 0x32, 0x2C, 0x30, 0x32, 0x38, 0x2C])\n",
    "\n",
    "class DataFrame():\n",
    "    def __init__(self, buffer):\n",
    "        self.device_addr = buffer[0]\n",
    "        self.data = buffer[1:25]\n",
    "        self.invariant = buffer[25:28]\n",
    "        self.reserved = buffer[28:32]\n",
    "\n",
    "    def __repr__(self):\n",
    "        vals = struct.unpack(\"<6f\", self.data)\n",
    "        vals_str = \"{:8.4f},{:8.4f},{:8.4f},{:8.4f},{:8.4f},{:8.4f}\".format(vals[0], vals[1], vals[2], vals[3], vals[4], vals[5])\n",
    "        #invariant_str = \"{:02X} {:02X} {:02X}\".format(self.invariant[0], self.invariant[1], self.invariant[2])\n",
    "        #reserved_str = \"{:02X} {:02X} {:02X} {:02X}\".format(self.reserved[0], self.reserved[1], self.reserved[2], self.reserved[3])\n",
    "        return vals_str\n",
    "\n",
    "def getframe1(b):\n",
    "    global state1\n",
    "    global payload1\n",
    "\n",
    "    b = int.from_bytes(b, byteorder='big')\n",
    "    if state1 == -1 and b == 0x2B:\n",
    "        state1 = 0\n",
    "        return False\n",
    "    elif state1 >= 0 and state1 < 14:\n",
    "        if header1[state1 + 1] == b:\n",
    "            state1 = state1 + 1\n",
    "        else:\n",
    "            state1 = -1\n",
    "        return False\n",
    "    elif state1 >= 14 and state1 < 45:\n",
    "        payload1.append(b)\n",
    "        state1 = state1 + 1\n",
    "        return False\n",
    "    elif state1 == 45:\n",
    "        payload1.append(b)\n",
    "        state1 = -1\n",
    "        return True\n",
    "\n",
    "def getframe2(b):\n",
    "    global state2\n",
    "    global payload2\n",
    "\n",
    "    b = int.from_bytes(b, byteorder='big')\n",
    "    if state2 == -1 and b == 0x2B:\n",
    "        state2 = 0\n",
    "        return False\n",
    "    elif state2 >= 0 and state2 < 14:\n",
    "        if header2[state2 + 1] == b:\n",
    "            state2 = state2 + 1\n",
    "        else:\n",
    "            state2 = -1\n",
    "        return False\n",
    "    elif state2 >= 14 and state2 < 45:\n",
    "        payload2.append(b)\n",
    "        state2 = state2 + 1\n",
    "        return False\n",
    "    elif state2 == 45:\n",
    "        payload2.append(b)\n",
    "        state2 = -1\n",
    "        return True"
   ]
  },
  {
   "cell_type": "code",
   "execution_count": 24,
   "metadata": {},
   "outputs": [],
   "source": [
    "def getval(cur):\n",
    "    whole=[]\n",
    "    res=cur.split(',')\n",
    "    for item in res:\n",
    "        whole.append(eval(item))\n",
    "    return whole"
   ]
  },
  {
   "cell_type": "code",
   "execution_count": 25,
   "metadata": {},
   "outputs": [
    {
     "name": "stdout",
     "output_type": "stream",
     "text": [
      "Serial<id=0x7fdfb1804400, open=True>(port='/dev/tty.usbserial-A50285BI', baudrate=921600, bytesize=8, parity='N', stopbits=1, timeout=1, xonxoff=False, rtscts=False, dsrdtr=False)\n",
      "command sent\n"
     ]
    }
   ],
   "source": [
    "try:\n",
    "    port_name = \"/dev/tty.usbserial-A50285BI\"\n",
    "    port_bps = 921600\n",
    "    serial_port = serial.Serial(port_name, port_bps, timeout=1)\n",
    "    print(serial_port)\n",
    "    serial_port.write(\"AT+SPPSEND=1,6,view=1\\r\\n\".encode(encoding=\"ascii\"))\n",
    "    time.sleep(1)\n",
    "    serial_port.write(\"AT+SPPSEND=2,6,view=1\\r\\n\".encode(encoding=\"ascii\"))\n",
    "\n",
    "    print(\"command sent\")\n",
    "    f1=open('../data/imu1.txt','w')\n",
    "    f2=open('../data/imu2.txt','w')\n",
    "    imu1=[]\n",
    "    imu2=[]\n",
    "    \n",
    "    for i in range(102400):\n",
    "        data=serial_port.read()\n",
    "        cur=time.time()\n",
    "        if getframe1(data):\n",
    "            frame = DataFrame(bytes(payload1))\n",
    "            frame = getval(str(frame))\n",
    "            imu1.append((cur,frame))\n",
    "            payload1 = []\n",
    "        if getframe2(data):\n",
    "            frame = DataFrame(bytes(payload2))\n",
    "            frame = getval(str(frame))\n",
    "            imu2.append((cur,frame))\n",
    "            payload2 = []       \n",
    "    \n",
    "    f1.write(str(imu1))\n",
    "    f2.write(str(imu2))\n",
    "    \n",
    "    f1.close()\n",
    "    f2.close()\n",
    "\n",
    "except Exception as e:\n",
    "    print(e)"
   ]
  },
  {
   "cell_type": "markdown",
   "metadata": {},
   "source": [
    "### 数据格式转换\n",
    "1. 差值\n",
    "2. 计算角速度\n",
    "\n",
    "需要注意\n",
    "- 要把两个imu的时间段统一\n",
    "- 选择合适的帧率"
   ]
  },
  {
   "cell_type": "code",
   "execution_count": 55,
   "metadata": {},
   "outputs": [],
   "source": [
    "from scipy.interpolate import interp1d"
   ]
  },
  {
   "cell_type": "code",
   "execution_count": 56,
   "metadata": {},
   "outputs": [],
   "source": [
    "f1=open('../data/imu1.txt').read()\n",
    "f2=open('../data/imu2.txt').read()"
   ]
  },
  {
   "cell_type": "code",
   "execution_count": 62,
   "metadata": {},
   "outputs": [],
   "source": [
    "#看一下两个数据点之间的时间戳\n",
    "imu1=eval(f1)\n",
    "tot=0\n",
    "interval=0\n",
    "for i in range(1,len(imu1)):\n",
    "    tot+=1\n",
    "    interval+=imu1[i][0]-imu1[i-1][0]\n",
    "    "
   ]
  },
  {
   "cell_type": "code",
   "execution_count": 63,
   "metadata": {},
   "outputs": [
    {
     "data": {
      "text/plain": [
       "0.01618837666910401"
      ]
     },
     "execution_count": 63,
     "metadata": {},
     "output_type": "execute_result"
    }
   ],
   "source": [
    "interval/tot"
   ]
  },
  {
   "cell_type": "code",
   "execution_count": 64,
   "metadata": {},
   "outputs": [
    {
     "data": {
      "text/plain": [
       "1854"
      ]
     },
     "execution_count": 64,
     "metadata": {},
     "output_type": "execute_result"
    }
   ],
   "source": [
    "len(imu1)"
   ]
  },
  {
   "cell_type": "code",
   "execution_count": 65,
   "metadata": {},
   "outputs": [
    {
     "data": {
      "text/plain": [
       "2627"
      ]
     },
     "execution_count": 65,
     "metadata": {},
     "output_type": "execute_result"
    }
   ],
   "source": [
    "len(imu2)"
   ]
  },
  {
   "cell_type": "code",
   "execution_count": 67,
   "metadata": {},
   "outputs": [
    {
     "data": {
      "text/plain": [
       "[(1625472245.924957, [71.9774, 18.1563, -15.7351, 0.5672, 0.0817, 0.006]),\n",
       " (1625472245.925916, [72.6049, 19.8604, -12.9963, 0.4697, 0.038, -0.1919]),\n",
       " (1625472245.9267688, [72.7159, 19.893, -10.6339, 0.2624, 0.0794, -0.3742]),\n",
       " (1625472245.927407, [72.5912, 19.2017, -9.1508, 0.1319, 0.0854, -0.4289]),\n",
       " (1625472245.928041, [72.3306, 18.3538, -8.8933, 0.0853, 0.0465, -0.3546]),\n",
       " (1625472245.928693, [72.1455, 17.4403, -9.7528, 0.0817, 0.0684, -0.2213]),\n",
       " (1625472245.929397, [72.0754, 16.4494, -11.2768, 0.0949, 0.1086, -0.0438]),\n",
       " (1625472245.930042, [71.8189, 15.4645, -13.1491, 0.0854, 0.1222, 0.0487]),\n",
       " (1625472245.930639, [71.0508, 14.7431, -15.3202, 0.0539, 0.0959, 0.0877]),\n",
       " (1625472245.931196, [70.0649, 14.1517, -17.4385, 0.0132, 0.0211, 0.1])]"
      ]
     },
     "execution_count": 67,
     "metadata": {},
     "output_type": "execute_result"
    }
   ],
   "source": [
    "imu1[:10]"
   ]
  },
  {
   "cell_type": "code",
   "execution_count": 68,
   "metadata": {},
   "outputs": [],
   "source": [
    "from scipy import interpolate\n",
    "import math\n",
    "\n",
    "def get_data(path):\n",
    "    with open(path) as f:\n",
    "        data=eval(f.read())\n",
    "    return data\n",
    "\n",
    "def store(data,path):\n",
    "    with open(path,'w') as f:\n",
    "        f.write(str(data))\n",
    "\n",
    "def get_inter(data,begin,end,diff):\n",
    "    tot=begin\n",
    "    whole=[]\n",
    "    nx=[]\n",
    "    while tot<end:\n",
    "        whole.append([tot])\n",
    "        nx.append(tot)\n",
    "        tot+=diff\n",
    "        pass\n",
    "    x=[]\n",
    "    for item in data:\n",
    "        x.append(item[0])\n",
    "    \n",
    "    for i in range(len(data[0][1])):\n",
    "        #对于每个数据点\n",
    "        cur=[]\n",
    "        for j in range(len(data)):\n",
    "            cur.append(data[j][1][i])\n",
    "        f=interpolate.interp1d(x,cur,kind='linear')\n",
    "        y=f(nx)\n",
    "        for j in range(len(whole)):\n",
    "            whole[j].append(y[j])\n",
    "    return whole\n",
    "\n",
    "\n",
    "def trans(path,diff=0.1):\n",
    "    diff=0.1\n",
    "    data=[]\n",
    "    for item in path:\n",
    "        data.append(get_data(item))\n",
    "    begin=max(data[0][0][0],data[1][0][0])\n",
    "    begin=math.floor(begin)\n",
    "    end=min(data[0][-1][0],data[1][-1][0])\n",
    "    end=math.ceil(end)\n",
    "   \n",
    "    for i in range(len(data)):\n",
    "        cur=get_inter(data[i],begin,end,diff)\n",
    "        curpath=path[i].replace('data','newdata',1)\n",
    "        store(cur,curpath)\n"
   ]
  },
  {
   "cell_type": "code",
   "execution_count": 71,
   "metadata": {},
   "outputs": [],
   "source": [
    "diff = 0.1\n",
    "data = []\n",
    "path=['../data/imu1.txt','../data/imu2.txt']\n",
    "\n",
    "for item in path:\n",
    "    data.append(get_data(item))\n",
    "begin = max(data[0][0][0], data[1][0][0])\n",
    "begin = math.floor(begin)\n",
    "end = min(data[0][-1][0], data[1][-1][0])\n",
    "end = math.ceil(end)\n",
    "\n",
    "# for i in range(len(data)):\n",
    "#     cur = get_inter(data[i], begin, end, diff)\n",
    "#     curpath = path[i].replace('data', 'newdata', 1)\n",
    "#     store(cur, curpath)\n"
   ]
  },
  {
   "cell_type": "code",
   "execution_count": 79,
   "metadata": {},
   "outputs": [],
   "source": [
    "tot=begin\n",
    "whole=[]\n",
    "nx=[]\n",
    "diff=0.1\n",
    "data=data[0]\n",
    "while tot<end:\n",
    "    whole.append([tot])\n",
    "    nx.append(tot)\n",
    "    tot+=diff\n",
    "x=[]\n",
    "for item in data:\n",
    "    x.append(item[0])\n"
   ]
  },
  {
   "cell_type": "code",
   "execution_count": 80,
   "metadata": {},
   "outputs": [
    {
     "ename": "ValueError",
     "evalue": "A value in x_new is above the interpolation range.",
     "output_type": "error",
     "traceback": [
      "\u001b[0;31m---------------------------------------------------------------------------\u001b[0m",
      "\u001b[0;31mValueError\u001b[0m                                Traceback (most recent call last)",
      "\u001b[0;32m<ipython-input-80-c45bf41b652f>\u001b[0m in \u001b[0;36m<module>\u001b[0;34m\u001b[0m\n\u001b[1;32m      4\u001b[0m         \u001b[0mcur\u001b[0m\u001b[0;34m.\u001b[0m\u001b[0mappend\u001b[0m\u001b[0;34m(\u001b[0m\u001b[0mdata\u001b[0m\u001b[0;34m[\u001b[0m\u001b[0mj\u001b[0m\u001b[0;34m]\u001b[0m\u001b[0;34m[\u001b[0m\u001b[0;36m1\u001b[0m\u001b[0;34m]\u001b[0m\u001b[0;34m[\u001b[0m\u001b[0mi\u001b[0m\u001b[0;34m]\u001b[0m\u001b[0;34m)\u001b[0m\u001b[0;34m\u001b[0m\u001b[0;34m\u001b[0m\u001b[0m\n\u001b[1;32m      5\u001b[0m     \u001b[0mf\u001b[0m\u001b[0;34m=\u001b[0m\u001b[0minterpolate\u001b[0m\u001b[0;34m.\u001b[0m\u001b[0minterp1d\u001b[0m\u001b[0;34m(\u001b[0m\u001b[0mx\u001b[0m\u001b[0;34m,\u001b[0m\u001b[0mcur\u001b[0m\u001b[0;34m,\u001b[0m\u001b[0mkind\u001b[0m\u001b[0;34m=\u001b[0m\u001b[0;34m'linear'\u001b[0m\u001b[0;34m)\u001b[0m\u001b[0;34m\u001b[0m\u001b[0;34m\u001b[0m\u001b[0m\n\u001b[0;32m----> 6\u001b[0;31m     \u001b[0my\u001b[0m\u001b[0;34m=\u001b[0m\u001b[0mf\u001b[0m\u001b[0;34m(\u001b[0m\u001b[0mnx\u001b[0m\u001b[0;34m)\u001b[0m\u001b[0;34m\u001b[0m\u001b[0;34m\u001b[0m\u001b[0m\n\u001b[0m\u001b[1;32m      7\u001b[0m     \u001b[0;32mfor\u001b[0m \u001b[0mj\u001b[0m \u001b[0;32min\u001b[0m \u001b[0mrange\u001b[0m\u001b[0;34m(\u001b[0m\u001b[0mlen\u001b[0m\u001b[0;34m(\u001b[0m\u001b[0mwhole\u001b[0m\u001b[0;34m)\u001b[0m\u001b[0;34m)\u001b[0m\u001b[0;34m:\u001b[0m\u001b[0;34m\u001b[0m\u001b[0;34m\u001b[0m\u001b[0m\n\u001b[1;32m      8\u001b[0m         \u001b[0mwhole\u001b[0m\u001b[0;34m[\u001b[0m\u001b[0mj\u001b[0m\u001b[0;34m]\u001b[0m\u001b[0;34m.\u001b[0m\u001b[0mappend\u001b[0m\u001b[0;34m(\u001b[0m\u001b[0my\u001b[0m\u001b[0;34m[\u001b[0m\u001b[0mj\u001b[0m\u001b[0;34m]\u001b[0m\u001b[0;34m)\u001b[0m\u001b[0;34m\u001b[0m\u001b[0;34m\u001b[0m\u001b[0m\n",
      "\u001b[0;32m~/anaconda3/lib/python3.8/site-packages/scipy/interpolate/polyint.py\u001b[0m in \u001b[0;36m__call__\u001b[0;34m(self, x)\u001b[0m\n\u001b[1;32m     72\u001b[0m         \"\"\"\n\u001b[1;32m     73\u001b[0m         \u001b[0mx\u001b[0m\u001b[0;34m,\u001b[0m \u001b[0mx_shape\u001b[0m \u001b[0;34m=\u001b[0m \u001b[0mself\u001b[0m\u001b[0;34m.\u001b[0m\u001b[0m_prepare_x\u001b[0m\u001b[0;34m(\u001b[0m\u001b[0mx\u001b[0m\u001b[0;34m)\u001b[0m\u001b[0;34m\u001b[0m\u001b[0;34m\u001b[0m\u001b[0m\n\u001b[0;32m---> 74\u001b[0;31m         \u001b[0my\u001b[0m \u001b[0;34m=\u001b[0m \u001b[0mself\u001b[0m\u001b[0;34m.\u001b[0m\u001b[0m_evaluate\u001b[0m\u001b[0;34m(\u001b[0m\u001b[0mx\u001b[0m\u001b[0;34m)\u001b[0m\u001b[0;34m\u001b[0m\u001b[0;34m\u001b[0m\u001b[0m\n\u001b[0m\u001b[1;32m     75\u001b[0m         \u001b[0;32mreturn\u001b[0m \u001b[0mself\u001b[0m\u001b[0;34m.\u001b[0m\u001b[0m_finish_y\u001b[0m\u001b[0;34m(\u001b[0m\u001b[0my\u001b[0m\u001b[0;34m,\u001b[0m \u001b[0mx_shape\u001b[0m\u001b[0;34m)\u001b[0m\u001b[0;34m\u001b[0m\u001b[0;34m\u001b[0m\u001b[0m\n\u001b[1;32m     76\u001b[0m \u001b[0;34m\u001b[0m\u001b[0m\n",
      "\u001b[0;32m~/anaconda3/lib/python3.8/site-packages/scipy/interpolate/interpolate.py\u001b[0m in \u001b[0;36m_evaluate\u001b[0;34m(self, x_new)\u001b[0m\n\u001b[1;32m    657\u001b[0m         \u001b[0my_new\u001b[0m \u001b[0;34m=\u001b[0m \u001b[0mself\u001b[0m\u001b[0;34m.\u001b[0m\u001b[0m_call\u001b[0m\u001b[0;34m(\u001b[0m\u001b[0mself\u001b[0m\u001b[0;34m,\u001b[0m \u001b[0mx_new\u001b[0m\u001b[0;34m)\u001b[0m\u001b[0;34m\u001b[0m\u001b[0;34m\u001b[0m\u001b[0m\n\u001b[1;32m    658\u001b[0m         \u001b[0;32mif\u001b[0m \u001b[0;32mnot\u001b[0m \u001b[0mself\u001b[0m\u001b[0;34m.\u001b[0m\u001b[0m_extrapolate\u001b[0m\u001b[0;34m:\u001b[0m\u001b[0;34m\u001b[0m\u001b[0;34m\u001b[0m\u001b[0m\n\u001b[0;32m--> 659\u001b[0;31m             \u001b[0mbelow_bounds\u001b[0m\u001b[0;34m,\u001b[0m \u001b[0mabove_bounds\u001b[0m \u001b[0;34m=\u001b[0m \u001b[0mself\u001b[0m\u001b[0;34m.\u001b[0m\u001b[0m_check_bounds\u001b[0m\u001b[0;34m(\u001b[0m\u001b[0mx_new\u001b[0m\u001b[0;34m)\u001b[0m\u001b[0;34m\u001b[0m\u001b[0;34m\u001b[0m\u001b[0m\n\u001b[0m\u001b[1;32m    660\u001b[0m             \u001b[0;32mif\u001b[0m \u001b[0mlen\u001b[0m\u001b[0;34m(\u001b[0m\u001b[0my_new\u001b[0m\u001b[0;34m)\u001b[0m \u001b[0;34m>\u001b[0m \u001b[0;36m0\u001b[0m\u001b[0;34m:\u001b[0m\u001b[0;34m\u001b[0m\u001b[0;34m\u001b[0m\u001b[0m\n\u001b[1;32m    661\u001b[0m                 \u001b[0;31m# Note fill_value must be broadcast up to the proper size\u001b[0m\u001b[0;34m\u001b[0m\u001b[0;34m\u001b[0m\u001b[0;34m\u001b[0m\u001b[0m\n",
      "\u001b[0;32m~/anaconda3/lib/python3.8/site-packages/scipy/interpolate/interpolate.py\u001b[0m in \u001b[0;36m_check_bounds\u001b[0;34m(self, x_new)\u001b[0m\n\u001b[1;32m    689\u001b[0m                              \"range.\")\n\u001b[1;32m    690\u001b[0m         \u001b[0;32mif\u001b[0m \u001b[0mself\u001b[0m\u001b[0;34m.\u001b[0m\u001b[0mbounds_error\u001b[0m \u001b[0;32mand\u001b[0m \u001b[0mabove_bounds\u001b[0m\u001b[0;34m.\u001b[0m\u001b[0many\u001b[0m\u001b[0;34m(\u001b[0m\u001b[0;34m)\u001b[0m\u001b[0;34m:\u001b[0m\u001b[0;34m\u001b[0m\u001b[0;34m\u001b[0m\u001b[0m\n\u001b[0;32m--> 691\u001b[0;31m             raise ValueError(\"A value in x_new is above the interpolation \"\n\u001b[0m\u001b[1;32m    692\u001b[0m                              \"range.\")\n\u001b[1;32m    693\u001b[0m \u001b[0;34m\u001b[0m\u001b[0m\n",
      "\u001b[0;31mValueError\u001b[0m: A value in x_new is above the interpolation range."
     ]
    }
   ],
   "source": [
    "for i in range(len(data[0][1])):\n",
    "    cur=[]\n",
    "    for j in range(len(data)):\n",
    "        cur.append(data[j][1][i])\n",
    "    f=interpolate.interp1d(x,cur,kind='linear')\n",
    "    y=f(nx)\n",
    "    for j in range(len(whole)):\n",
    "        whole[j].append(y[j])\n"
   ]
  },
  {
   "cell_type": "code",
   "execution_count": 81,
   "metadata": {},
   "outputs": [
    {
     "data": {
      "text/plain": [
       "6"
      ]
     },
     "execution_count": 81,
     "metadata": {},
     "output_type": "execute_result"
    }
   ],
   "source": [
    "len(data[0][1])"
   ]
  },
  {
   "cell_type": "code",
   "execution_count": 82,
   "metadata": {},
   "outputs": [
    {
     "data": {
      "text/plain": [
       "1854"
      ]
     },
     "execution_count": 82,
     "metadata": {},
     "output_type": "execute_result"
    }
   ],
   "source": [
    "len(data)"
   ]
  },
  {
   "cell_type": "code",
   "execution_count": 87,
   "metadata": {},
   "outputs": [
    {
     "data": {
      "text/plain": [
       "1625472275.922019"
      ]
     },
     "execution_count": 87,
     "metadata": {},
     "output_type": "execute_result"
    }
   ],
   "source": [
    "x[-1]"
   ]
  },
  {
   "cell_type": "code",
   "execution_count": 84,
   "metadata": {},
   "outputs": [
    {
     "data": {
      "text/plain": [
       "1625472246"
      ]
     },
     "execution_count": 84,
     "metadata": {},
     "output_type": "execute_result"
    }
   ],
   "source": [
    "nx[0]"
   ]
  },
  {
   "cell_type": "code",
   "execution_count": 86,
   "metadata": {},
   "outputs": [
    {
     "data": {
      "text/plain": [
       "1625472275.9999714"
      ]
     },
     "execution_count": 86,
     "metadata": {},
     "output_type": "execute_result"
    }
   ],
   "source": [
    "nx[-1]"
   ]
  },
  {
   "cell_type": "code",
   "execution_count": 88,
   "metadata": {},
   "outputs": [
    {
     "data": {
      "text/plain": [
       "1625472276"
      ]
     },
     "execution_count": 88,
     "metadata": {},
     "output_type": "execute_result"
    }
   ],
   "source": [
    "end"
   ]
  },
  {
   "cell_type": "code",
   "execution_count": null,
   "metadata": {},
   "outputs": [],
   "source": []
  }
 ],
 "metadata": {
  "kernelspec": {
   "display_name": "Python 3",
   "language": "python",
   "name": "python3"
  },
  "language_info": {
   "codemirror_mode": {
    "name": "ipython",
    "version": 3
   },
   "file_extension": ".py",
   "mimetype": "text/x-python",
   "name": "python",
   "nbconvert_exporter": "python",
   "pygments_lexer": "ipython3",
   "version": "3.8.5"
  }
 },
 "nbformat": 4,
 "nbformat_minor": 4
}
