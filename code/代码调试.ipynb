{
 "cells": [
  {
   "cell_type": "code",
   "execution_count": 12,
   "metadata": {},
   "outputs": [],
   "source": [
    "import serial\n",
    "import struct\n",
    "import time\n",
    "\n",
    "##两个imu分开写\n",
    "state1 = 0\n",
    "payload1 = list()\n",
    "\n",
    "state2 = 0\n",
    "payload2 = list()\n",
    "\n",
    "# +SPPDATA=1,028,\n",
    "header1 = bytes([0x2B, 0x53, 0x50, 0x50, 0x44, 0x41, 0x54, 0x41, 0x3D, 0x31, 0x2C, 0x30, 0x32, 0x38, 0x2C])\n",
    "# +SPPDATA=2,028,\n",
    "header2= bytes([0x2B, 0x53, 0x50, 0x50, 0x44, 0x41, 0x54, 0x41, 0x3D, 0x32, 0x2C, 0x30, 0x32, 0x38, 0x2C])\n",
    "\n",
    "class DataFrame():\n",
    "    def __init__(self, buffer):\n",
    "        self.device_addr = buffer[0]\n",
    "        self.data = buffer[1:25]\n",
    "        self.invariant = buffer[25:28]\n",
    "        self.reserved = buffer[28:32]\n",
    "\n",
    "    def __repr__(self):\n",
    "        vals = struct.unpack(\"<6f\", self.data)\n",
    "        vals_str = \"{:8.4f},{:8.4f},{:8.4f},{:8.4f},{:8.4f},{:8.4f}\".format(vals[0], vals[1], vals[2], vals[3], vals[4], vals[5])\n",
    "        #invariant_str = \"{:02X} {:02X} {:02X}\".format(self.invariant[0], self.invariant[1], self.invariant[2])\n",
    "        #reserved_str = \"{:02X} {:02X} {:02X} {:02X}\".format(self.reserved[0], self.reserved[1], self.reserved[2], self.reserved[3])\n",
    "        return vals_str\n",
    "\n",
    "def getframe1(b):\n",
    "    global state1\n",
    "    global payload1\n",
    "\n",
    "    b = int.from_bytes(b, byteorder='big')\n",
    "    if state1 == -1 and b == 0x2B:\n",
    "        state1 = 0\n",
    "        return False\n",
    "    elif state1 >= 0 and state1 < 14:\n",
    "        if header1[state1 + 1] == b:\n",
    "            state1 = state1 + 1\n",
    "        else:\n",
    "            state1 = -1\n",
    "        return False\n",
    "    elif state1 >= 14 and state1 < 45:\n",
    "        payload1.append(b)\n",
    "        state1 = state1 + 1\n",
    "        return False\n",
    "    elif state1 == 45:\n",
    "        payload1.append(b)\n",
    "        state1 = -1\n",
    "        return True\n",
    "\n",
    "def getframe2(b):\n",
    "    global state2\n",
    "    global payload2\n",
    "\n",
    "    b = int.from_bytes(b, byteorder='big')\n",
    "    if state2 == -1 and b == 0x2B:\n",
    "        state2 = 0\n",
    "        return False\n",
    "    elif state2 >= 0 and state2 < 14:\n",
    "        if header2[state2 + 1] == b:\n",
    "            state2 = state2 + 1\n",
    "        else:\n",
    "            state2 = -1\n",
    "        return False\n",
    "    elif state2 >= 14 and state2 < 45:\n",
    "        payload2.append(b)\n",
    "        state2 = state2 + 1\n",
    "        return False\n",
    "    elif state2 == 45:\n",
    "        payload2.append(b)\n",
    "        state2 = -1\n",
    "        return True"
   ]
  },
  {
   "cell_type": "code",
   "execution_count": 24,
   "metadata": {},
   "outputs": [],
   "source": [
    "def getval(cur):\n",
    "    whole=[]\n",
    "    res=cur.split(',')\n",
    "    for item in res:\n",
    "        whole.append(eval(item))\n",
    "    return whole"
   ]
  },
  {
   "cell_type": "code",
   "execution_count": 25,
   "metadata": {},
   "outputs": [
    {
     "name": "stdout",
     "output_type": "stream",
     "text": [
      "Serial<id=0x7fdfb1804400, open=True>(port='/dev/tty.usbserial-A50285BI', baudrate=921600, bytesize=8, parity='N', stopbits=1, timeout=1, xonxoff=False, rtscts=False, dsrdtr=False)\n",
      "command sent\n"
     ]
    }
   ],
   "source": [
    "try:\n",
    "    port_name = \"/dev/tty.usbserial-A50285BI\"\n",
    "    port_bps = 921600\n",
    "    serial_port = serial.Serial(port_name, port_bps, timeout=1)\n",
    "    print(serial_port)\n",
    "    serial_port.write(\"AT+SPPSEND=1,6,view=1\\r\\n\".encode(encoding=\"ascii\"))\n",
    "    time.sleep(1)\n",
    "    serial_port.write(\"AT+SPPSEND=2,6,view=1\\r\\n\".encode(encoding=\"ascii\"))\n",
    "\n",
    "    print(\"command sent\")\n",
    "    f1=open('../data/imu1.txt','w')\n",
    "    f2=open('../data/imu2.txt','w')\n",
    "    imu1=[]\n",
    "    imu2=[]\n",
    "    \n",
    "    for i in range(102400):\n",
    "        data=serial_port.read()\n",
    "        cur=time.time()\n",
    "        if getframe1(data):\n",
    "            frame = DataFrame(bytes(payload1))\n",
    "            frame = getval(str(frame))\n",
    "            imu1.append((cur,frame))\n",
    "            payload1 = []\n",
    "        if getframe2(data):\n",
    "            frame = DataFrame(bytes(payload2))\n",
    "            frame = getval(str(frame))\n",
    "            imu2.append((cur,frame))\n",
    "            payload2 = []       \n",
    "    \n",
    "    f1.write(str(imu1))\n",
    "    f2.write(str(imu2))\n",
    "    \n",
    "    f1.close()\n",
    "    f2.close()\n",
    "\n",
    "except Exception as e:\n",
    "    print(e)"
   ]
  },
  {
   "cell_type": "markdown",
   "metadata": {},
   "source": [
    "### 数据格式转换\n",
    "1. 差值\n",
    "2. 计算角速度\n",
    "\n",
    "需要注意\n",
    "- 要把两个imu的时间段统一\n",
    "- 选择合适的帧率"
   ]
  },
  {
   "cell_type": "code",
   "execution_count": 55,
   "metadata": {},
   "outputs": [],
   "source": [
    "from scipy.interpolate import interp1d"
   ]
  },
  {
   "cell_type": "code",
   "execution_count": 56,
   "metadata": {},
   "outputs": [],
   "source": [
    "f1=open('../data/imu1.txt').read()\n",
    "f2=open('../data/imu2.txt').read()"
   ]
  },
  {
   "cell_type": "code",
   "execution_count": 62,
   "metadata": {},
   "outputs": [],
   "source": [
    "#看一下两个数据点之间的时间戳\n",
    "imu1=eval(f1)\n",
    "tot=0\n",
    "interval=0\n",
    "for i in range(1,len(imu1)):\n",
    "    tot+=1\n",
    "    interval+=imu1[i][0]-imu1[i-1][0]\n",
    "    "
   ]
  },
  {
   "cell_type": "code",
   "execution_count": 63,
   "metadata": {},
   "outputs": [
    {
     "data": {
      "text/plain": [
       "0.01618837666910401"
      ]
     },
     "execution_count": 63,
     "metadata": {},
     "output_type": "execute_result"
    }
   ],
   "source": [
    "interval/tot"
   ]
  },
  {
   "cell_type": "code",
   "execution_count": 64,
   "metadata": {},
   "outputs": [
    {
     "data": {
      "text/plain": [
       "1854"
      ]
     },
     "execution_count": 64,
     "metadata": {},
     "output_type": "execute_result"
    }
   ],
   "source": [
    "len(imu1)"
   ]
  },
  {
   "cell_type": "code",
   "execution_count": 65,
   "metadata": {},
   "outputs": [
    {
     "data": {
      "text/plain": [
       "2627"
      ]
     },
     "execution_count": 65,
     "metadata": {},
     "output_type": "execute_result"
    }
   ],
   "source": [
    "len(imu2)"
   ]
  },
  {
   "cell_type": "code",
   "execution_count": 66,
   "metadata": {},
   "outputs": [
    {
     "data": {
      "text/plain": [
       "(1625472245.924957, [71.9774, 18.1563, -15.7351, 0.5672, 0.0817, 0.006])"
      ]
     },
     "execution_count": 66,
     "metadata": {},
     "output_type": "execute_result"
    }
   ],
   "source": [
    "imu1[0]"
   ]
  },
  {
   "cell_type": "code",
   "execution_count": 52,
   "metadata": {},
   "outputs": [],
   "source": [
    "a=time.time()"
   ]
  },
  {
   "cell_type": "code",
   "execution_count": 53,
   "metadata": {},
   "outputs": [],
   "source": [
    "b=time.time()"
   ]
  },
  {
   "cell_type": "code",
   "execution_count": 54,
   "metadata": {},
   "outputs": [
    {
     "data": {
      "text/plain": [
       "5.494539022445679"
      ]
     },
     "execution_count": 54,
     "metadata": {},
     "output_type": "execute_result"
    }
   ],
   "source": [
    "b-a"
   ]
  },
  {
   "cell_type": "code",
   "execution_count": null,
   "metadata": {},
   "outputs": [],
   "source": []
  }
 ],
 "metadata": {
  "kernelspec": {
   "display_name": "Python 3",
   "language": "python",
   "name": "python3"
  },
  "language_info": {
   "codemirror_mode": {
    "name": "ipython",
    "version": 3
   },
   "file_extension": ".py",
   "mimetype": "text/x-python",
   "name": "python",
   "nbconvert_exporter": "python",
   "pygments_lexer": "ipython3",
   "version": "3.8.5"
  }
 },
 "nbformat": 4,
 "nbformat_minor": 4
}
